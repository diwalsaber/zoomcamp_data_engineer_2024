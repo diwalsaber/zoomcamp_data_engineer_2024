{
 "cells": [
  {
   "cell_type": "markdown",
   "metadata": {
    "id": "mrTFv5nPClXh"
   },
   "source": [
    "# **Homework**: Data talks club data engineering zoomcamp Data loading workshop\n",
    "\n",
    "Hello folks, let's practice what we learned - Loading data with the best practices of data engineering.\n",
    "\n",
    "Here are the exercises we will do\n",
    "\n",
    "\n"
   ]
  },
  {
   "cell_type": "markdown",
   "metadata": {
    "id": "wLF4iXf-NR7t"
   },
   "source": [
    "# 1. Use a generator\n",
    "\n",
    "Remember the concept of generator? Let's practice using them to futher our understanding of how they work.\n",
    "\n",
    "Let's define a generator and then run it as practice.\n",
    "\n",
    "**Answer the following questions:**\n",
    "\n",
    "- **Question 1: What is the sum of the outputs of the generator for limit = 5?**\n",
    "- **Question 2: What is the 13th number yielded**\n",
    "\n",
    "I suggest practicing these questions without GPT as the purpose is to further your learning."
   ]
  },
  {
   "cell_type": "code",
   "execution_count": 22,
   "metadata": {
    "colab": {
     "base_uri": "https://localhost:8080/"
    },
    "id": "wLng-bDJN4jf",
    "outputId": "547683cb-5f56-4815-a903-d0d9578eb1f9"
   },
   "outputs": [
    {
     "name": "stdout",
     "output_type": "stream",
     "text": [
      "1.0\n",
      "1.4142135623730951\n",
      "1.7320508075688772\n",
      "2.0\n",
      "2.23606797749979\n",
      "2.449489742783178\n",
      "2.6457513110645907\n",
      "2.8284271247461903\n",
      "3.0\n",
      "3.1622776601683795\n",
      "3.3166247903554\n",
      "3.4641016151377544\n",
      "3.605551275463989\n",
      "32.854555867161245\n"
     ]
    }
   ],
   "source": [
    "def square_root_generator(limit):\n",
    "    n = 1\n",
    "    while n <= limit:\n",
    "        yield n ** 0.5\n",
    "        n += 1\n",
    "\n",
    "# Example usage:\n",
    "limit = 13\n",
    "generator = square_root_generator(limit)\n",
    "list_gen = []\n",
    "\n",
    "for sqrt_value in generator:\n",
    "    print(sqrt_value)\n",
    "    list_gen.append(sqrt_value)\n",
    "\n",
    "print(sum(list_gen))\n",
    "\n"
   ]
  },
  {
   "cell_type": "markdown",
   "metadata": {
    "id": "xbe3q55zN43j"
   },
   "source": []
  },
  {
   "cell_type": "markdown",
   "metadata": {
    "id": "vjWhILzGJMpK"
   },
   "source": [
    "# 2. Append a generator to a table with existing data\n",
    "\n",
    "\n",
    "Below you have 2 generators. You will be tasked to load them to duckdb and answer some questions from the data\n",
    "\n",
    "1. Load the first generator and calculate the sum of ages of all people. Make sure to only load it once.\n",
    "2. Append the second generator to the same table as the first.\n",
    "3. **After correctly appending the data, calculate the sum of all ages of people.**\n",
    "\n",
    "\n"
   ]
  },
  {
   "cell_type": "code",
   "execution_count": 7,
   "metadata": {},
   "outputs": [],
   "source": [
    "import dlt"
   ]
  },
  {
   "cell_type": "code",
   "execution_count": 6,
   "metadata": {
    "colab": {
     "base_uri": "https://localhost:8080/"
    },
    "id": "2MoaQcdLBEk6",
    "outputId": "d2b93dc1-d83f-44ea-aeff-fdf51d75f7aa"
   },
   "outputs": [
    {
     "name": "stdout",
     "output_type": "stream",
     "text": [
      "{'ID': 1, 'Name': 'Person_1', 'Age': 26, 'City': 'City_A'}\n",
      "{'ID': 2, 'Name': 'Person_2', 'Age': 27, 'City': 'City_A'}\n",
      "{'ID': 3, 'Name': 'Person_3', 'Age': 28, 'City': 'City_A'}\n",
      "{'ID': 4, 'Name': 'Person_4', 'Age': 29, 'City': 'City_A'}\n",
      "{'ID': 5, 'Name': 'Person_5', 'Age': 30, 'City': 'City_A'}\n",
      "{'ID': 3, 'Name': 'Person_3', 'Age': 33, 'City': 'City_B', 'Occupation': 'Job_3'}\n",
      "{'ID': 4, 'Name': 'Person_4', 'Age': 34, 'City': 'City_B', 'Occupation': 'Job_4'}\n",
      "{'ID': 5, 'Name': 'Person_5', 'Age': 35, 'City': 'City_B', 'Occupation': 'Job_5'}\n",
      "{'ID': 6, 'Name': 'Person_6', 'Age': 36, 'City': 'City_B', 'Occupation': 'Job_6'}\n",
      "{'ID': 7, 'Name': 'Person_7', 'Age': 37, 'City': 'City_B', 'Occupation': 'Job_7'}\n",
      "{'ID': 8, 'Name': 'Person_8', 'Age': 38, 'City': 'City_B', 'Occupation': 'Job_8'}\n"
     ]
    }
   ],
   "source": [
    "def people_1():\n",
    "    for i in range(1, 6):\n",
    "        yield {\"ID\": i, \"Name\": f\"Person_{i}\", \"Age\": 25 + i, \"City\": \"City_A\"}\n",
    "\n",
    "for person in people_1():\n",
    "    print(person)\n",
    "\n",
    "\n",
    "def people_2():\n",
    "    for i in range(3, 9):\n",
    "        yield {\"ID\": i, \"Name\": f\"Person_{i}\", \"Age\": 30 + i, \"City\": \"City_B\", \"Occupation\": f\"Job_{i}\"}\n",
    "\n",
    "\n",
    "for person in people_2():\n",
    "    print(person)\n"
   ]
  },
  {
   "cell_type": "code",
   "execution_count": 15,
   "metadata": {},
   "outputs": [
    {
     "name": "stdout",
     "output_type": "stream",
     "text": [
      "Pipeline dlt_ipykernel_launcher load step completed in 0.18 seconds\n",
      "1 load package(s) were loaded to destination duckdb and into dataset generators\n",
      "The duckdb destination used duckdb:////Users/diwal/Library/Mobile Documents/com~apple~CloudDocs/Work/01_Cours/07_data_engineering_zoomcamp/de_zoomcamp2024/workshop_01/dlt_ipykernel_launcher.duckdb location to store data\n",
      "Load package 1708192283.119673 is LOADED and contains no failed jobs\n"
     ]
    }
   ],
   "source": [
    "# define the connection to load to.\n",
    "# We now use duckdb, but you can switch to Bigquery later\n",
    "generators_pipeline = dlt.pipeline(destination='duckdb', dataset_name='generators')\n",
    "\n",
    "info = generators_pipeline.run(people_1(),\n",
    "                                 table_name=\"people_1\",\n",
    "                                 write_disposition=\"replace\")\n",
    "\n",
    "print(info)\n",
    "\n",
    "info = generators_pipeline.run(people_2(),\n",
    "                                table_name=\"people_2\",\n",
    "                                write_disposition=\"replace\")"
   ]
  },
  {
   "cell_type": "code",
   "execution_count": 21,
   "metadata": {
    "id": "vtdTIm4fvQCN"
   },
   "outputs": [
    {
     "name": "stdout",
     "output_type": "stream",
     "text": [
      "Loaded tables: \n"
     ]
    },
    {
     "data": {
      "text/plain": [
       "┌─────────────────────┐\n",
       "│        name         │\n",
       "│       varchar       │\n",
       "├─────────────────────┤\n",
       "│ _dlt_loads          │\n",
       "│ _dlt_pipeline_state │\n",
       "│ _dlt_version        │\n",
       "│ people              │\n",
       "│ people_1            │\n",
       "│ people_2            │\n",
       "└─────────────────────┘"
      ]
     },
     "metadata": {},
     "output_type": "display_data"
    },
    {
     "name": "stdout",
     "output_type": "stream",
     "text": [
      "\n",
      "\n",
      "\n",
      " people_1 and people_2 table below:\n",
      "   id      name  age    city       _dlt_load_id         _dlt_id\n",
      "0   1  Person_1   26  City_A  1708192283.119673  7NDE6AdSNTVPsA\n",
      "1   2  Person_2   27  City_A  1708192283.119673  ed6X8pZHh3bCeg\n",
      "2   3  Person_3   28  City_A  1708192283.119673  QDeLb8j4syGsBw\n",
      "3   4  Person_4   29  City_A  1708192283.119673  jv33LgESo0iW6w\n",
      "4   5  Person_5   30  City_A  1708192283.119673  DhWB+xwHZj4g8g\n"
     ]
    }
   ],
   "source": [
    "import duckdb\n",
    "\n",
    "conn = duckdb.connect(f\"{generators_pipeline.pipeline_name}.duckdb\")\n",
    "\n",
    "conn.sql(f\"SET search_path = '{generators_pipeline.dataset_name}'\")\n",
    "print('Loaded tables: ')\n",
    "display(conn.sql(\"show tables\"))\n",
    "\n",
    "print(\"\\n\\n\\n people_1 and people_2 table below:\")\n",
    "\n",
    "all = conn.sql(\"SELECT * FROM people_1\").df()\n",
    "print(all)"
   ]
  },
  {
   "cell_type": "code",
   "execution_count": 34,
   "metadata": {},
   "outputs": [
    {
     "data": {
      "text/html": [
       "<div>\n",
       "<style scoped>\n",
       "    .dataframe tbody tr th:only-of-type {\n",
       "        vertical-align: middle;\n",
       "    }\n",
       "\n",
       "    .dataframe tbody tr th {\n",
       "        vertical-align: top;\n",
       "    }\n",
       "\n",
       "    .dataframe thead th {\n",
       "        text-align: right;\n",
       "    }\n",
       "</style>\n",
       "<table border=\"1\" class=\"dataframe\">\n",
       "  <thead>\n",
       "    <tr style=\"text-align: right;\">\n",
       "      <th></th>\n",
       "      <th>sum(age)</th>\n",
       "    </tr>\n",
       "  </thead>\n",
       "  <tbody>\n",
       "    <tr>\n",
       "      <th>0</th>\n",
       "      <td>353.0</td>\n",
       "    </tr>\n",
       "  </tbody>\n",
       "</table>\n",
       "</div>"
      ],
      "text/plain": [
       "   sum(age)\n",
       "0     353.0"
      ]
     },
     "execution_count": 34,
     "metadata": {},
     "output_type": "execute_result"
    }
   ],
   "source": [
    "sum1 + sum2"
   ]
  },
  {
   "cell_type": "markdown",
   "metadata": {
    "id": "pY4cFAWOSwN1",
    "jp-MarkdownHeadingCollapsed": true
   },
   "source": [
    "# 3. Merge a generator\n",
    "\n",
    "Re-use the generators from Exercise 2.\n",
    "\n",
    "A table's primary key needs to be created from the start, so load your data to a new table with primary key ID.\n",
    "\n",
    "Load your first generator first, and then load the second one with merge. Since they have overlapping IDs, some of the records from the first load should be replaced by the ones from the second load.\n",
    "\n",
    "After loading, you should have a total of 8 records, and ID 3 should have age 33.\n",
    "\n",
    "Question: **Calculate the sum of ages of all the people loaded as described above.**\n"
   ]
  },
  {
   "cell_type": "markdown",
   "metadata": {
    "id": "kKB2GTB9oVjr"
   },
   "source": [
    "# Solution: First make sure that the following modules are installed:"
   ]
  },
  {
   "cell_type": "code",
   "execution_count": null,
   "metadata": {
    "id": "xTVvtyqrfVNq"
   },
   "outputs": [],
   "source": [
    "#Install the dependencies\n",
    "%%capture\n",
    "!pip install dlt[duckdb]"
   ]
  },
  {
   "cell_type": "code",
   "execution_count": 56,
   "metadata": {},
   "outputs": [],
   "source": [
    "# define the connection to load to.\n",
    "# We now use duckdb, but you can switch to Bigquery later\n",
    "generators_pipeline_1 = dlt.pipeline(destination='duckdb', dataset_name='generators')\n",
    "\n",
    "infos = generators_pipeline_1.run(people_1(),\n",
    "                                 table_name=\"people\",\n",
    "                                 primary_key=\"ID\",\n",
    "                                 write_disposition=\"replace\")\n",
    "\n",
    "infos = generators_pipeline_1.run(people_2(),\n",
    "                                 table_name=\"people\",\n",
    "                                 primary_key=\"ID\",\n",
    "                                 write_disposition=\"merge\")"
   ]
  },
  {
   "cell_type": "code",
   "execution_count": 52,
   "metadata": {
    "id": "a2-PRBAkGC2K"
   },
   "outputs": [
    {
     "name": "stdout",
     "output_type": "stream",
     "text": [
      "Pipeline dlt_ipykernel_launcher load step completed in 0.33 seconds\n",
      "1 load package(s) were loaded to destination duckdb and into dataset generators\n",
      "The duckdb destination used duckdb:////Users/diwal/Library/Mobile Documents/com~apple~CloudDocs/Work/01_Cours/07_data_engineering_zoomcamp/de_zoomcamp2024/workshop_01/dlt_ipykernel_launcher.duckdb location to store data\n",
      "Load package 1708249583.002086 is LOADED and contains no failed jobs\n"
     ]
    }
   ],
   "source": [
    "print(infos)"
   ]
  },
  {
   "cell_type": "code",
   "execution_count": 65,
   "metadata": {},
   "outputs": [
    {
     "name": "stdout",
     "output_type": "stream",
     "text": [
      "Loaded tables: \n"
     ]
    },
    {
     "data": {
      "text/plain": [
       "┌─────────────────────┐\n",
       "│        name         │\n",
       "│       varchar       │\n",
       "├─────────────────────┤\n",
       "│ _dlt_loads          │\n",
       "│ _dlt_pipeline_state │\n",
       "│ _dlt_version        │\n",
       "│ people              │\n",
       "│ people_1            │\n",
       "│ people_11           │\n",
       "│ people_2            │\n",
       "│ people_22           │\n",
       "└─────────────────────┘"
      ]
     },
     "metadata": {},
     "output_type": "display_data"
    },
    {
     "name": "stdout",
     "output_type": "stream",
     "text": [
      "\n",
      "\n",
      "\n",
      " people_1 and people_2 table below:\n",
      "┌───────┬──────────┬───────┬─────────┬────────────────────┬────────────────┬────────────┐\n",
      "│  id   │   name   │  age  │  city   │    _dlt_load_id    │    _dlt_id     │ occupation │\n",
      "│ int64 │ varchar  │ int64 │ varchar │      varchar       │    varchar     │  varchar   │\n",
      "├───────┼──────────┼───────┼─────────┼────────────────────┼────────────────┼────────────┤\n",
      "│     1 │ Person_1 │    26 │ City_A  │ 1708249972.1997828 │ 3fNi/XMpOcEj3Q │ NULL       │\n",
      "│     2 │ Person_2 │    27 │ City_A  │ 1708249972.1997828 │ YRx6kuMkqujDMA │ NULL       │\n",
      "│     8 │ Person_8 │    38 │ City_B  │ 1708249972.7986088 │ r+UJD0EfXDJhdQ │ Job_8      │\n",
      "│     3 │ Person_3 │    33 │ City_B  │ 1708249972.7986088 │ 4J+oHudmGLRjuw │ Job_3      │\n",
      "│     6 │ Person_6 │    36 │ City_B  │ 1708249972.7986088 │ 6YaBm588IDOcuQ │ Job_6      │\n",
      "│     5 │ Person_5 │    35 │ City_B  │ 1708249972.7986088 │ wq/ODhdq/b6KwA │ Job_5      │\n",
      "│     7 │ Person_7 │    37 │ City_B  │ 1708249972.7986088 │ ytfMjTXVGVZKuQ │ Job_7      │\n",
      "│     4 │ Person_4 │    34 │ City_B  │ 1708249972.7986088 │ 2UpcbnSOEZrgJA │ Job_4      │\n",
      "└───────┴──────────┴───────┴─────────┴────────────────────┴────────────────┴────────────┘\n",
      "\n",
      "[(266,)]\n"
     ]
    }
   ],
   "source": [
    "conn = duckdb.connect(f\"{generators_pipeline_1.pipeline_name}.duckdb\")\n",
    "\n",
    "conn.sql(f\"SET search_path = '{generators_pipeline_1.dataset_name}'\")\n",
    "print('Loaded tables: ')\n",
    "display(conn.sql(\"show tables\"))\n",
    "\n",
    "print(\"\\n\\n\\n people_1 and people_2 table below:\")\n",
    "\n",
    "table = conn.sql(\"\"\"SELECT * FROM people \"\"\")\n",
    "\n",
    "#as p1\n",
    "#left join \n",
    "#people_2 as p2 on p1.ID = p2.ID\"\"\").df()\n",
    "print(table)\n",
    "\n",
    "table_sum_age = conn.sql(\"\"\"SELECT SUM(age) FROM people \"\"\").fetchall()\n",
    "print(table_sum_age)"
   ]
  },
  {
   "cell_type": "markdown",
   "metadata": {
    "id": "PoTJu4kbGG0z"
   },
   "source": [
    "Questions? difficulties? We are here to help.\n",
    "- DTC data engineering course channel: https://datatalks-club.slack.com/archives/C01FABYF2RG\n",
    "- dlt's DTC cohort channel: https://dlthub-community.slack.com/archives/C06GAEX2VNX"
   ]
  }
 ],
 "metadata": {
  "colab": {
   "provenance": []
  },
  "kernelspec": {
   "display_name": "Python 3 (ipykernel)",
   "language": "python",
   "name": "python3"
  },
  "language_info": {
   "codemirror_mode": {
    "name": "ipython",
    "version": 3
   },
   "file_extension": ".py",
   "mimetype": "text/x-python",
   "name": "python",
   "nbconvert_exporter": "python",
   "pygments_lexer": "ipython3",
   "version": "3.9.18"
  }
 },
 "nbformat": 4,
 "nbformat_minor": 4
}
